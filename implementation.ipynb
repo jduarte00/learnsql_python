{
 "cells": [
  {
   "cell_type": "code",
   "execution_count": 1,
   "id": "c1a61347-db81-4acb-aadf-1871a6b8e7f2",
   "metadata": {},
   "outputs": [],
   "source": [
    "import mysql.connector\n",
    "from mysql.connector import Error"
   ]
  },
  {
   "cell_type": "code",
   "execution_count": 3,
   "id": "7d715c61-753a-48d8-9762-bb8ce8e24dd9",
   "metadata": {},
   "outputs": [
    {
     "name": "stdout",
     "output_type": "stream",
     "text": [
      "Starting MySQL\n",
      " SUCCESS! \n"
     ]
    }
   ],
   "source": [
    "!mysql.server start"
   ]
  },
  {
   "cell_type": "code",
   "execution_count": 6,
   "id": "659eb0d5-2164-41d7-8e15-a836e25c98c8",
   "metadata": {},
   "outputs": [],
   "source": [
    "def check_connection(host, db_name, user, psswd):\n",
    "    try:\n",
    "        connection = mysql.connector.connect(host=host,\n",
    "                                             database=db_name,\n",
    "                                             user=user,\n",
    "                                             password=psswd)\n",
    "        if connection.is_connected():\n",
    "            db_Info = connection.get_server_info()\n",
    "            print(\"Connected to MySQL Server version \", db_Info)\n",
    "            cursor = connection.cursor()\n",
    "            cursor.execute(\"select database();\")\n",
    "            record = cursor.fetchone()\n",
    "            print(\"You're connected to database: \", record)\n",
    "\n",
    "    except Error as e:\n",
    "        print(\"Error while connecting to MySQL\", e)\n",
    "    finally:\n",
    "        if connection.is_connected():\n",
    "            cursor.close()\n",
    "            connection.close()\n",
    "            print(\"MySQL connection is closed\")"
   ]
  },
  {
   "cell_type": "code",
   "execution_count": 8,
   "id": "718d5693-c495-45e2-9c24-1e6a537e012f",
   "metadata": {},
   "outputs": [
    {
     "name": "stdout",
     "output_type": "stream",
     "text": [
      "Connected to MySQL Server version  8.0.28\n",
      "You're connected to database:  ('sports_booking',)\n",
      "MySQL connection is closed\n"
     ]
    }
   ],
   "source": [
    "host = 'localhost'\n",
    "db_name = 'sports_booking'\n",
    "user = 'root'\n",
    "psswd = ''\n",
    "check_connection(host, db_name, user, psswd)"
   ]
  },
  {
   "cell_type": "code",
   "execution_count": 45,
   "id": "0d7d8c5c-069d-4ee8-a9ba-2673178d69d0",
   "metadata": {},
   "outputs": [],
   "source": [
    "def execute_sql(query, host, db_name, user, psswd):\n",
    "    try:\n",
    "        connection = mysql.connector.connect(host=host,\n",
    "                                             database=db_name,\n",
    "                                             user=user,\n",
    "                                             password=psswd)\n",
    "\n",
    "        mySql_Create_Table_Query = query\n",
    "        cursor = connection.cursor()\n",
    "        result = cursor.execute(mySql_Create_Table_Query)\n",
    "        print(result)\n",
    "\n",
    "    except mysql.connector.Error as error:\n",
    "        print(\"Failed to create table in MySQL: {}\".format(error))\n",
    "    finally:\n",
    "        if connection.is_connected():\n",
    "            cursor.close()\n",
    "            connection.close()\n",
    "            print(\"MySQL connection is closed\")\n",
    "            \n",
    "def show_tables(host, db_name, user, psswd):\n",
    "    try:\n",
    "        connection = mysql.connector.connect(host=host,\n",
    "                                             database=db_name,\n",
    "                                             user=user,\n",
    "                                             password=psswd)\n",
    "        cursor = connection.cursor()\n",
    "        cursor.execute(\"Show tables;\")\n",
    "        result = cursor.fetchall()\n",
    "        for table in result:\n",
    "            print(table)\n",
    "\n",
    "    except mysql.connector.Error as error:\n",
    "        print(\"Failed to create table in MySQL: {}\".format(error))\n",
    "    finally:\n",
    "        if connection.is_connected():\n",
    "            cursor.close()\n",
    "            connection.close()\n",
    "            print(\"MySQL connection is closed\")"
   ]
  },
  {
   "cell_type": "markdown",
   "id": "ee28deb9-cf0e-4117-958b-097714a8424b",
   "metadata": {},
   "source": [
    "## Creating the tables"
   ]
  },
  {
   "cell_type": "code",
   "execution_count": 30,
   "id": "f3d21aab-2854-4636-a29f-df63cd32ba94",
   "metadata": {},
   "outputs": [
    {
     "name": "stdout",
     "output_type": "stream",
     "text": [
      "None\n",
      "MySQL connection is closed\n"
     ]
    }
   ],
   "source": [
    "create_members = \"\"\"\n",
    "CREATE TABLE members (\n",
    "    id VARCHAR(255) PRIMARY KEY,\n",
    "    password VARCHAR(255) NOT NULL,\n",
    "    email VARCHAR(255) NOT NULL,\n",
    "    member_since TIMESTAMP NOT NULL DEFAULT NOW(),\n",
    "    payment_due FLOAT(4,2) NOT NULL DEFAULT 0\n",
    ");\n",
    "\"\"\"\n",
    "execute_sql(create_members, host, db_name, user, psswd)"
   ]
  },
  {
   "cell_type": "code",
   "execution_count": 46,
   "id": "8ed73a0b-daab-4329-9d2f-39d83fc63782",
   "metadata": {},
   "outputs": [
    {
     "name": "stdout",
     "output_type": "stream",
     "text": [
      "('members',)\n",
      "MySQL connection is closed\n"
     ]
    }
   ],
   "source": [
    "show_tables(host, db_name, user, psswd)"
   ]
  },
  {
   "cell_type": "code",
   "execution_count": 47,
   "id": "241c4616-9766-4345-a579-edfcf1c3afb1",
   "metadata": {},
   "outputs": [
    {
     "name": "stdout",
     "output_type": "stream",
     "text": [
      "None\n",
      "MySQL connection is closed\n"
     ]
    }
   ],
   "source": [
    "create_pending_terminations = \"\"\"\n",
    "CREATE TABLE pending_terminations(\n",
    "    id VARCHAR(255) PRIMARY KEY,\n",
    "    email VARCHAR(255) NOT NULL,\n",
    "    request_date TIMESTAMP NOT NULL DEFAULT NOW(),\n",
    "    payment_due FLOAT(4,2) NOT NULL DEFAULT 0\n",
    "    \n",
    ");\n",
    "\"\"\"\n",
    "execute_sql(create_pending_terminations, host, db_name, user, psswd)"
   ]
  },
  {
   "cell_type": "code",
   "execution_count": 48,
   "id": "d11115ee-fe1b-437b-8288-d6c8b1e4063c",
   "metadata": {},
   "outputs": [
    {
     "name": "stdout",
     "output_type": "stream",
     "text": [
      "('members',)\n",
      "('pending_terminations',)\n",
      "MySQL connection is closed\n"
     ]
    }
   ],
   "source": [
    "show_tables(host, db_name, user, psswd)"
   ]
  },
  {
   "cell_type": "code",
   "execution_count": 49,
   "id": "5304ed44-ca31-420a-9d4e-db3a73514037",
   "metadata": {},
   "outputs": [
    {
     "name": "stdout",
     "output_type": "stream",
     "text": [
      "None\n",
      "MySQL connection is closed\n"
     ]
    }
   ],
   "source": [
    "create_rooms = \"\"\"\n",
    "CREATE TABLE rooms(\n",
    "    id VARCHAR(255) PRIMARY KEY,\n",
    "    room_type VARCHAR(255) NOT NULL,\n",
    "    price FLOAT(4,2) NOT NULL    \n",
    ");\n",
    "\"\"\"\n",
    "execute_sql(create_rooms, host, db_name, user, psswd)"
   ]
  },
  {
   "cell_type": "code",
   "execution_count": 50,
   "id": "9d041f68-7cfd-402a-9258-ec094fda4c8d",
   "metadata": {},
   "outputs": [
    {
     "name": "stdout",
     "output_type": "stream",
     "text": [
      "('members',)\n",
      "('pending_terminations',)\n",
      "('rooms',)\n",
      "MySQL connection is closed\n"
     ]
    }
   ],
   "source": [
    "show_tables(host, db_name, user, psswd)"
   ]
  },
  {
   "cell_type": "code",
   "execution_count": 52,
   "id": "cbb2c826-a772-4aba-beb9-2450c983df01",
   "metadata": {},
   "outputs": [
    {
     "name": "stdout",
     "output_type": "stream",
     "text": [
      "None\n",
      "MySQL connection is closed\n"
     ]
    }
   ],
   "source": [
    "create_bookings = \"\"\"\n",
    "CREATE TABLE bookings(\n",
    "    id INT PRIMARY KEY AUTO_INCREMENT,\n",
    "    room_id VARCHAR(255) NOT NULL,\n",
    "    booked_date DATE NOT NULL,\n",
    "    booked_time TIME NOT NULL,\n",
    "    member_id VARCHAR(255) NOT NULL,\n",
    "    datetime_of_booking TIMESTAMP NOT NULL DEFAULT NOW(),\n",
    "    payment_status VARCHAR(255) NOT NULL DEFAULT 'Unpaid',\n",
    "    CONSTRAINT uc1 UNIQUE(room_id, booked_date, booked_time)\n",
    ");\n",
    "\"\"\"\n",
    "execute_sql(create_bookings, host, db_name, user, psswd)"
   ]
  },
  {
   "cell_type": "code",
   "execution_count": 53,
   "id": "a056a3e2-7a52-4ec9-814c-1f99b6222580",
   "metadata": {},
   "outputs": [
    {
     "name": "stdout",
     "output_type": "stream",
     "text": [
      "('bookings',)\n",
      "('members',)\n",
      "('pending_terminations',)\n",
      "('rooms',)\n",
      "MySQL connection is closed\n"
     ]
    }
   ],
   "source": [
    "show_tables(host, db_name, user, psswd)"
   ]
  },
  {
   "cell_type": "code",
   "execution_count": 55,
   "id": "f15ab931-adb9-48c3-92f2-79650e432a19",
   "metadata": {},
   "outputs": [
    {
     "name": "stdout",
     "output_type": "stream",
     "text": [
      "None\n",
      "MySQL connection is closed\n"
     ]
    }
   ],
   "source": [
    "alter_bookings = \"\"\"\n",
    "ALTER TABLE bookings \n",
    "    ADD CONSTRAINT fk1 FOREIGN KEY(member_id) REFERENCES members(id) ON DELETE CASCADE ON UPDATE CASCADE,\n",
    "    ADD CONSTRAINT fk2 FOREIGN KEY(room_id) REFERENCES rooms(id) ON DELETE CASCADE ON UPDATE CASCADE;\n",
    "\"\"\"\n",
    "execute_sql(alter_bookings, host, db_name, user, psswd)"
   ]
  },
  {
   "cell_type": "markdown",
   "id": "db0353d2-098e-42af-a604-b031c6e7eb98",
   "metadata": {},
   "source": [
    "## Inserting Data "
   ]
  }
 ],
 "metadata": {
  "kernelspec": {
   "display_name": "Python 3 (ipykernel)",
   "language": "python",
   "name": "python3"
  },
  "language_info": {
   "codemirror_mode": {
    "name": "ipython",
    "version": 3
   },
   "file_extension": ".py",
   "mimetype": "text/x-python",
   "name": "python",
   "nbconvert_exporter": "python",
   "pygments_lexer": "ipython3",
   "version": "3.10.2"
  }
 },
 "nbformat": 4,
 "nbformat_minor": 5
}
