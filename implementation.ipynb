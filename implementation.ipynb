{
 "cells": [
  {
   "cell_type": "code",
   "execution_count": 1,
   "id": "c1a61347-db81-4acb-aadf-1871a6b8e7f2",
   "metadata": {},
   "outputs": [],
   "source": [
    "import mysql.connector\n",
    "from mysql.connector import Error"
   ]
  },
  {
   "cell_type": "code",
   "execution_count": 8,
   "id": "7d715c61-753a-48d8-9762-bb8ce8e24dd9",
   "metadata": {},
   "outputs": [
    {
     "name": "stdout",
     "output_type": "stream",
     "text": [
      "Starting MySQL\n",
      " SUCCESS! \n"
     ]
    }
   ],
   "source": [
    "!mysql.server start"
   ]
  },
  {
   "cell_type": "code",
   "execution_count": 2,
   "id": "659eb0d5-2164-41d7-8e15-a836e25c98c8",
   "metadata": {},
   "outputs": [],
   "source": [
    "def check_connection(host, db_name, user, psswd):\n",
    "    try:\n",
    "        connection = mysql.connector.connect(host=host,\n",
    "                                             database=db_name,\n",
    "                                             user=user,\n",
    "                                             password=psswd)\n",
    "        if connection.is_connected():\n",
    "            db_Info = connection.get_server_info()\n",
    "            print(\"Connected to MySQL Server version \", db_Info)\n",
    "            cursor = connection.cursor()\n",
    "            cursor.execute(\"select database();\")\n",
    "            record = cursor.fetchone()\n",
    "            print(\"You're connected to database: \", record)\n",
    "\n",
    "    except Error as e:\n",
    "        print(\"Error while connecting to MySQL\", e)\n",
    "    finally:\n",
    "        if connection.is_connected():\n",
    "            cursor.close()\n",
    "            connection.close()\n",
    "            print(\"MySQL connection is closed\")"
   ]
  },
  {
   "cell_type": "code",
   "execution_count": 3,
   "id": "718d5693-c495-45e2-9c24-1e6a537e012f",
   "metadata": {},
   "outputs": [
    {
     "name": "stdout",
     "output_type": "stream",
     "text": [
      "Connected to MySQL Server version  8.0.28\n",
      "You're connected to database:  ('sports_booking',)\n",
      "MySQL connection is closed\n"
     ]
    }
   ],
   "source": [
    "host = 'localhost'\n",
    "db_name = 'sports_booking'\n",
    "user = 'root'\n",
    "psswd = ''\n",
    "check_connection(host, db_name, user, psswd)"
   ]
  },
  {
   "cell_type": "code",
   "execution_count": 4,
   "id": "0d7d8c5c-069d-4ee8-a9ba-2673178d69d0",
   "metadata": {},
   "outputs": [],
   "source": [
    "def execute_sql_wrapper(host, db_name, user, psswd):\n",
    "    host = host\n",
    "    db_name = db_name\n",
    "    user = user\n",
    "    psswd = psswd\n",
    "    \n",
    "    def execute_sql(query):\n",
    "        try:\n",
    "            connection = mysql.connector.connect(host=host,\n",
    "                                                 database=db_name,\n",
    "                                                 user=user,\n",
    "                                                 password=psswd)\n",
    "            cursor = connection.cursor()\n",
    "            result = cursor.execute(query)\n",
    "            connection.commit()\n",
    "        except mysql.connector.Error as error:\n",
    "            print(\"Failed to create table in MySQL: {}\".format(error))\n",
    "        finally:\n",
    "            if connection.is_connected():\n",
    "                cursor.close()\n",
    "                connection.close()\n",
    "                print(\"MySQL connection is closed\")\n",
    "\n",
    "    \n",
    "    return execute_sql\n",
    "    \n",
    "\n",
    "def create_table_wrapper(host, db_name, user, psswd):\n",
    "    def create_table(query):\n",
    "        try:\n",
    "            connection = mysql.connector.connect(host=host,\n",
    "                                                 database=db_name,\n",
    "                                                 user=user,\n",
    "                                                 password=psswd)\n",
    "            cursor = connection.cursor()\n",
    "            result = cursor.execute(query)\n",
    "            print(result)\n",
    "\n",
    "        except mysql.connector.Error as error:\n",
    "            print(\"Failed to create table in MySQL: {}\".format(error))\n",
    "        finally:\n",
    "            if connection.is_connected():\n",
    "                cursor.close()\n",
    "                connection.close()\n",
    "                print(\"MySQL connection is closed\")\n",
    "    return create_table\n",
    "            \n",
    "def show_tables_wrapper(host, db_name, user, psswd):\n",
    "    def show_tables():\n",
    "        try:\n",
    "            connection = mysql.connector.connect(host=host,database=db_name,user=user,password=psswd)\n",
    "            cursor = connection.cursor()\n",
    "            cursor.execute(\"Show tables;\")\n",
    "            result = cursor.fetchall()\n",
    "            for table in result:\n",
    "                print(table)\n",
    "\n",
    "        except mysql.connector.Error as error:\n",
    "            print(\"Failed to create table in MySQL: {}\".format(error))\n",
    "        finally:\n",
    "            if connection.is_connected():\n",
    "                cursor.close()\n",
    "                connection.close()\n",
    "                print(\"MySQL connection is closed\")\n",
    "    return show_tables\n",
    "\n",
    "def print_table_wrapper(host, db_name, user, psswd):\n",
    "    def print_table(query):\n",
    "        try:\n",
    "            connection = mysql.connector.connect(host=host,\n",
    "                                                 database=db_name,\n",
    "                                                 user=user,\n",
    "                                                 password=psswd)\n",
    "            cursor = connection.cursor()\n",
    "            cursor.execute(query)\n",
    "            result = cursor.fetchall()\n",
    "            for row in result:\n",
    "                print(row)\n",
    "\n",
    "        except mysql.connector.Error as error:\n",
    "            print(\"Failed to create table in MySQL: {}\".format(error))\n",
    "        finally:\n",
    "            if connection.is_connected():\n",
    "                cursor.close()\n",
    "                connection.close()\n",
    "                print(\"MySQL connection is closed\")\n",
    "    return print_table\n",
    "\n",
    "def insert_values_wrapper(host, db_name, user, psswd):\n",
    "    def insert_values(values):\n",
    "        try:\n",
    "            connection = mysql.connector.connect(host=host,\n",
    "                                                 database=db_name,\n",
    "                                                 user=user,\n",
    "                                                 password=psswd)\n",
    "            cursor = connection.cursor()\n",
    "            for value in values:\n",
    "                cursor.execute(value)\n",
    "            connection.commit()\n",
    "        except mysql.connector.Error as error:\n",
    "            print(\"Failed to create table in MySQL: {}\".format(error))\n",
    "        finally:\n",
    "            if connection.is_connected():\n",
    "                cursor.close()\n",
    "                connection.close()\n",
    "                print(\"MySQL connection is closed\")\n",
    "    return insert_values\n"
   ]
  },
  {
   "cell_type": "code",
   "execution_count": 5,
   "id": "672f3130-16bc-484a-a4b7-67fc15a14223",
   "metadata": {},
   "outputs": [],
   "source": [
    "create_table = create_table_wrapper(host, db_name, user, psswd)\n",
    "show_tables = show_tables_wrapper(host, db_name, user, psswd)\n",
    "insert_values = insert_values_wrapper(host, db_name, user, psswd)\n",
    "execute_sql = execute_sql_wrapper(host, db_name, user, psswd)\n",
    "print_table = print_table_wrapper(host, db_name, user, psswd)"
   ]
  },
  {
   "cell_type": "code",
   "execution_count": 6,
   "id": "f1450c7c-b983-467c-9a13-93259aeee343",
   "metadata": {},
   "outputs": [
    {
     "name": "stdout",
     "output_type": "stream",
     "text": [
      "('bookings',)\n",
      "('member_bookings',)\n",
      "('members',)\n",
      "('pending_terminations',)\n",
      "('rooms',)\n",
      "MySQL connection is closed\n"
     ]
    }
   ],
   "source": [
    "show_tables()"
   ]
  },
  {
   "cell_type": "markdown",
   "id": "ee28deb9-cf0e-4117-958b-097714a8424b",
   "metadata": {},
   "source": [
    "## Creating the tables"
   ]
  },
  {
   "cell_type": "code",
   "execution_count": 28,
   "id": "f3d21aab-2854-4636-a29f-df63cd32ba94",
   "metadata": {},
   "outputs": [
    {
     "name": "stdout",
     "output_type": "stream",
     "text": [
      "Failed to create table in MySQL: 1050 (42S01): Table 'members' already exists\n",
      "MySQL connection is closed\n"
     ]
    }
   ],
   "source": [
    "create_members = \"\"\"\n",
    "CREATE TABLE members (\n",
    "    id VARCHAR(255) PRIMARY KEY,\n",
    "    password VARCHAR(255) NOT NULL,\n",
    "    email VARCHAR(255) NOT NULL,\n",
    "    member_since TIMESTAMP NOT NULL DEFAULT NOW(),\n",
    "    payment_due FLOAT(4,2) NOT NULL DEFAULT 0\n",
    ");\n",
    "\"\"\"\n",
    "create_table(create_members)"
   ]
  },
  {
   "cell_type": "code",
   "execution_count": 33,
   "id": "8ed73a0b-daab-4329-9d2f-39d83fc63782",
   "metadata": {},
   "outputs": [
    {
     "name": "stdout",
     "output_type": "stream",
     "text": [
      "('bookings',)\n",
      "('members',)\n",
      "('pending_terminations',)\n",
      "('rooms',)\n",
      "MySQL connection is closed\n"
     ]
    }
   ],
   "source": [
    "show_tables()"
   ]
  },
  {
   "cell_type": "code",
   "execution_count": 45,
   "id": "241c4616-9766-4345-a579-edfcf1c3afb1",
   "metadata": {},
   "outputs": [
    {
     "name": "stdout",
     "output_type": "stream",
     "text": [
      "None\n",
      "MySQL connection is closed\n"
     ]
    }
   ],
   "source": [
    "create_pending_terminations = \"\"\"\n",
    "CREATE TABLE pending_terminations(\n",
    "    id VARCHAR(255) PRIMARY KEY,\n",
    "    email VARCHAR(255) NOT NULL,\n",
    "    request_date TIMESTAMP NOT NULL DEFAULT NOW(),\n",
    "    payment_due FLOAT(4,2) NOT NULL DEFAULT 0\n",
    "    \n",
    ");\n",
    "\"\"\"\n",
    "create_table(create_pending_terminations)"
   ]
  },
  {
   "cell_type": "code",
   "execution_count": 32,
   "id": "d11115ee-fe1b-437b-8288-d6c8b1e4063c",
   "metadata": {},
   "outputs": [
    {
     "name": "stdout",
     "output_type": "stream",
     "text": [
      "('bookings',)\n",
      "('members',)\n",
      "('pending_terminations',)\n",
      "('rooms',)\n",
      "MySQL connection is closed\n"
     ]
    }
   ],
   "source": [
    "show_tables()"
   ]
  },
  {
   "cell_type": "code",
   "execution_count": 65,
   "id": "5304ed44-ca31-420a-9d4e-db3a73514037",
   "metadata": {},
   "outputs": [
    {
     "name": "stdout",
     "output_type": "stream",
     "text": [
      "None\n",
      "MySQL connection is closed\n"
     ]
    }
   ],
   "source": [
    "create_rooms = \"\"\"\n",
    "CREATE TABLE rooms(\n",
    "    id VARCHAR(255) PRIMARY KEY,\n",
    "    room_type VARCHAR(255) NOT NULL,\n",
    "    price FLOAT(5,2) NOT NULL    \n",
    ");\n",
    "\"\"\"\n",
    "create_table(create_rooms)"
   ]
  },
  {
   "cell_type": "code",
   "execution_count": 66,
   "id": "9d041f68-7cfd-402a-9258-ec094fda4c8d",
   "metadata": {},
   "outputs": [
    {
     "name": "stdout",
     "output_type": "stream",
     "text": [
      "('members',)\n",
      "('pending_terminations',)\n",
      "('rooms',)\n",
      "MySQL connection is closed\n"
     ]
    }
   ],
   "source": [
    "show_tables(host, db_name, user, psswd)"
   ]
  },
  {
   "cell_type": "code",
   "execution_count": 67,
   "id": "cbb2c826-a772-4aba-beb9-2450c983df01",
   "metadata": {},
   "outputs": [
    {
     "name": "stdout",
     "output_type": "stream",
     "text": [
      "None\n",
      "MySQL connection is closed\n"
     ]
    }
   ],
   "source": [
    "create_bookings = \"\"\"\n",
    "CREATE TABLE bookings(\n",
    "    id INT PRIMARY KEY AUTO_INCREMENT,\n",
    "    room_id VARCHAR(255) NOT NULL,\n",
    "    booked_date DATE NOT NULL,\n",
    "    booked_time TIME NOT NULL,\n",
    "    member_id VARCHAR(255) NOT NULL,\n",
    "    datetime_of_booking TIMESTAMP NOT NULL DEFAULT NOW(),\n",
    "    payment_status VARCHAR(255) NOT NULL DEFAULT 'Unpaid',\n",
    "    CONSTRAINT uc1 UNIQUE(room_id, booked_date, booked_time)\n",
    ");\n",
    "\"\"\"\n",
    "create_table(create_bookings)"
   ]
  },
  {
   "cell_type": "code",
   "execution_count": 68,
   "id": "a056a3e2-7a52-4ec9-814c-1f99b6222580",
   "metadata": {},
   "outputs": [
    {
     "name": "stdout",
     "output_type": "stream",
     "text": [
      "('bookings',)\n",
      "('members',)\n",
      "('pending_terminations',)\n",
      "('rooms',)\n",
      "MySQL connection is closed\n"
     ]
    }
   ],
   "source": [
    "show_tables(host, db_name, user, psswd)"
   ]
  },
  {
   "cell_type": "code",
   "execution_count": 69,
   "id": "f15ab931-adb9-48c3-92f2-79650e432a19",
   "metadata": {},
   "outputs": [
    {
     "name": "stdout",
     "output_type": "stream",
     "text": [
      "None\n",
      "MySQL connection is closed\n"
     ]
    }
   ],
   "source": [
    "alter_bookings = \"\"\"ALTER TABLE bookings \n",
    "    ADD CONSTRAINT fk1 FOREIGN KEY(member_id) REFERENCES members(id) ON DELETE CASCADE ON UPDATE CASCADE,\n",
    "    ADD CONSTRAINT fk2 FOREIGN KEY(room_id) REFERENCES rooms(id) ON DELETE CASCADE ON UPDATE CASCADE;\"\"\"\n",
    "create_table(alter_bookings)"
   ]
  },
  {
   "cell_type": "markdown",
   "id": "db0353d2-098e-42af-a604-b031c6e7eb98",
   "metadata": {},
   "source": [
    "## Inserting Data "
   ]
  },
  {
   "cell_type": "markdown",
   "id": "833a5d22-1695-49ee-ba8c-0c9c81d860e6",
   "metadata": {},
   "source": [
    "### Populating members table"
   ]
  },
  {
   "cell_type": "code",
   "execution_count": 52,
   "id": "5bc58d3c-b753-4247-9324-f6f7e3d54236",
   "metadata": {},
   "outputs": [],
   "source": [
    "members_data = [('afeil', 'feil1988<3', 'Abdul.Feil@hotmail.com', '2017-04-15 12:10:13', 0),('amely_18', 'loseweightin18', 'Amely.Bauch91@yahoo.com', '2018-02-06 16:48:43', 0), ('bbahringer', 'iambeau17', 'Beaulah_Bahringer@yahoo.com', '2017-12-28 05:36:50', 0), ('little31', 'whocares31', 'Anthony_Little31@gmail.com', '2017-06-01 21:12:11', 10), ('macejkovic73', 'jadajeda12', 'Jada.Macejkovic73@gmail.com', '2017-05-30 17:30:22', 0), ('marvin1', 'if0909mar', 'Marvin_Schulist@gmail.com', '2017-09-09 02:30:49', 10), ('nitzsche77', 'bret77@#', 'Bret_Nitzsche77@gmail.com', '2018-01-09 17:36:49', 0), ('noah51', '18Oct1976#51', 'Noah51@gmail.com', '2017-12-16 22:59:46', 0),\n",
    "('oreillys', 'reallycool#1', 'Martine_OReilly@yahoo.com', '2017-10-12 05:39:20', 0), ('wyattgreat', 'wyatt111', 'Wyatt_Wisozk2@gmail.com', '2017-07-18 16:28:35', 0)]"
   ]
  },
  {
   "cell_type": "code",
   "execution_count": 53,
   "id": "c476ede1-4c83-4847-88cc-e4aaff5ba8b0",
   "metadata": {},
   "outputs": [],
   "source": [
    "insert_members = \"\"\"INSERT INTO members (id, password, email, member_since, payment_due) VALUES (\"{}\",\"{}\",\"{}\",\"{}\",{})\"\"\"\n",
    "insert_statements = [insert_members.format(member[0], member[1], member[2], member[3], member[4]) for member in members_data]"
   ]
  },
  {
   "cell_type": "code",
   "execution_count": 54,
   "id": "9865309a-6ae4-4ff1-9e77-a4ceb9ee17f5",
   "metadata": {},
   "outputs": [
    {
     "name": "stdout",
     "output_type": "stream",
     "text": [
      "MySQL connection is closed\n"
     ]
    }
   ],
   "source": [
    "insert_values(insert_statements, host, db_name, user, psswd)"
   ]
  },
  {
   "cell_type": "code",
   "execution_count": 55,
   "id": "78ba5cfe-ba74-48ac-87d6-4576e51011bb",
   "metadata": {},
   "outputs": [
    {
     "name": "stdout",
     "output_type": "stream",
     "text": [
      "('afeil', 'feil1988<3', 'Abdul.Feil@hotmail.com', datetime.datetime(2017, 4, 15, 12, 10, 13), 0.0)\n",
      "('amely_18', 'loseweightin18', 'Amely.Bauch91@yahoo.com', datetime.datetime(2018, 2, 6, 16, 48, 43), 0.0)\n",
      "('bbahringer', 'iambeau17', 'Beaulah_Bahringer@yahoo.com', datetime.datetime(2017, 12, 28, 5, 36, 50), 0.0)\n",
      "('little31', 'whocares31', 'Anthony_Little31@gmail.com', datetime.datetime(2017, 6, 1, 21, 12, 11), 10.0)\n",
      "('macejkovic73', 'jadajeda12', 'Jada.Macejkovic73@gmail.com', datetime.datetime(2017, 5, 30, 17, 30, 22), 0.0)\n",
      "('marvin1', 'if0909mar', 'Marvin_Schulist@gmail.com', datetime.datetime(2017, 9, 9, 2, 30, 49), 10.0)\n",
      "('nitzsche77', 'bret77@#', 'Bret_Nitzsche77@gmail.com', datetime.datetime(2018, 1, 9, 17, 36, 49), 0.0)\n",
      "('noah51', '18Oct1976#51', 'Noah51@gmail.com', datetime.datetime(2017, 12, 16, 22, 59, 46), 0.0)\n",
      "('oreillys', 'reallycool#1', 'Martine_OReilly@yahoo.com', datetime.datetime(2017, 10, 12, 5, 39, 20), 0.0)\n",
      "('wyattgreat', 'wyatt111', 'Wyatt_Wisozk2@gmail.com', datetime.datetime(2017, 7, 18, 16, 28, 35), 0.0)\n",
      "MySQL connection is closed\n"
     ]
    }
   ],
   "source": [
    "print_table(\"members\", host, db_name, user, psswd)"
   ]
  },
  {
   "cell_type": "markdown",
   "id": "6ab4156d-1e3a-4ca2-aa58-f730cd8a61a0",
   "metadata": {},
   "source": [
    "### Populating rooms table"
   ]
  },
  {
   "cell_type": "code",
   "execution_count": 56,
   "id": "8cdbb37b-a577-45e4-85f6-c73b0d043aea",
   "metadata": {},
   "outputs": [],
   "source": [
    "rooms_data = [('AR', 'Archery Range', 120),('B1', 'Badminton Court', 8),('B2', 'Badminton Court', 8),\n",
    "              ('MPF1', 'Multi Purpose Field', 50), ('MPF2', 'Multi Purpose Field', 60), ('T1', 'Tennis Court', 10),\n",
    "              ('T2', 'Tennis Court', 10)]"
   ]
  },
  {
   "cell_type": "code",
   "execution_count": 62,
   "id": "ccda779a-58be-4004-a87e-970d6fc1c524",
   "metadata": {},
   "outputs": [],
   "source": [
    "insert_rooms = \"\"\"INSERT INTO rooms (id, room_type, price) VALUES (\"{}\",\"{}\",{})\"\"\"\n",
    "insert_rooms = [insert_rooms.format(member[0], member[1], member[2]) for member in rooms_data]"
   ]
  },
  {
   "cell_type": "code",
   "execution_count": 70,
   "id": "22b544e9-abc2-47b5-8bc9-0b0a25b4f14b",
   "metadata": {},
   "outputs": [
    {
     "name": "stdout",
     "output_type": "stream",
     "text": [
      "MySQL connection is closed\n"
     ]
    }
   ],
   "source": [
    "insert_values(insert_rooms, host, db_name, user, psswd)"
   ]
  },
  {
   "cell_type": "code",
   "execution_count": 71,
   "id": "5425d0e2-76ae-46e1-a162-e89efb856acf",
   "metadata": {},
   "outputs": [
    {
     "name": "stdout",
     "output_type": "stream",
     "text": [
      "('AR', 'Archery Range', 120.0)\n",
      "('B1', 'Badminton Court', 8.0)\n",
      "('B2', 'Badminton Court', 8.0)\n",
      "('MPF1', 'Multi Purpose Field', 50.0)\n",
      "('MPF2', 'Multi Purpose Field', 60.0)\n",
      "('T1', 'Tennis Court', 10.0)\n",
      "('T2', 'Tennis Court', 10.0)\n",
      "MySQL connection is closed\n"
     ]
    }
   ],
   "source": [
    "print_table('rooms', host, db_name, user, psswd)"
   ]
  },
  {
   "cell_type": "markdown",
   "id": "b692566a-a2b2-4ca5-960d-450aa126c239",
   "metadata": {},
   "source": [
    "### Populating bookings table"
   ]
  },
  {
   "cell_type": "code",
   "execution_count": 72,
   "id": "43e03e15-b7e4-43ac-8a96-ddc308c8c22f",
   "metadata": {},
   "outputs": [],
   "source": [
    "bookings_data = [(1, 'AR', '2017-12-26', '13:00:00', 'oreillys', '2017-12-20 20:31:27', 'Paid'),\n",
    "(2, 'MPF1', '2017-12-30', '17:00:00', 'noah51', '2017-12-22 05:22:10', 'Paid'),\n",
    "(3, 'T2', '2017-12-31', '16:00:00', 'macejkovic73', '2017-12-28 18:14:23', 'Paid'),\n",
    "(4, 'T1', '2018-03-05', '08:00:00', 'little31', '2018-02-22 20:19:17', 'Unpaid'),\n",
    "(5, 'MPF2', '2018-03-02', '11:00:00', 'marvin1', '2018-03-01 16:13:45', 'Paid'),\n",
    "(6, 'B1', '2018-03-28', '16:00:00', 'marvin1', '2018-03-23 22:46:36', 'Paid'),\n",
    "(7, 'B1', '2018-04-15', '14:00:00', 'macejkovic73', '2018-04-12 22:23:20', 'Cancelled'),\n",
    "(8, 'T2', '2018-04-23', '13:00:00', 'macejkovic73', '2018-04-19 10:49:00', 'Cancelled'), \n",
    "(9, 'T1', '2018-05-25', '10:00:00', 'marvin1', '2018-05-21 11:20:46', 'Unpaid'),\n",
    "(10, 'B2', '2018-06-12', '15:00:00', 'bbahringer', '2018-05-30 14:40:23', 'Paid')]"
   ]
  },
  {
   "cell_type": "code",
   "execution_count": 76,
   "id": "c4d61e8c-14b6-4375-abd8-18bf46cf1fa8",
   "metadata": {},
   "outputs": [],
   "source": [
    "insert_bookings = \"\"\"INSERT INTO bookings (room_id, booked_date, booked_time, member_id, datetime_of_booking, payment_status) VALUES (\"{}\",\"{}\",\"{}\",\"{}\",\"{}\",\"{}\")\"\"\"\n",
    "insert_bookings = [insert_bookings.format(member[1], member[2], member[3],member[4], member[5], member[6]) for member in bookings_data]"
   ]
  },
  {
   "cell_type": "code",
   "execution_count": 78,
   "id": "8b7a946d-2eaf-483e-86fb-8c08b8d1efd2",
   "metadata": {},
   "outputs": [
    {
     "name": "stdout",
     "output_type": "stream",
     "text": [
      "MySQL connection is closed\n"
     ]
    }
   ],
   "source": [
    "insert_values(insert_bookings, host, db_name, user, psswd)"
   ]
  },
  {
   "cell_type": "code",
   "execution_count": 79,
   "id": "52752868-39a4-4fce-84cb-4d1aa86756a5",
   "metadata": {},
   "outputs": [
    {
     "name": "stdout",
     "output_type": "stream",
     "text": [
      "(1, 'AR', datetime.date(2017, 12, 26), datetime.timedelta(seconds=46800), 'oreillys', datetime.datetime(2017, 12, 20, 20, 31, 27), 'Paid')\n",
      "(2, 'MPF1', datetime.date(2017, 12, 30), datetime.timedelta(seconds=61200), 'noah51', datetime.datetime(2017, 12, 22, 5, 22, 10), 'Paid')\n",
      "(3, 'T2', datetime.date(2017, 12, 31), datetime.timedelta(seconds=57600), 'macejkovic73', datetime.datetime(2017, 12, 28, 18, 14, 23), 'Paid')\n",
      "(4, 'T1', datetime.date(2018, 3, 5), datetime.timedelta(seconds=28800), 'little31', datetime.datetime(2018, 2, 22, 20, 19, 17), 'Unpaid')\n",
      "(5, 'MPF2', datetime.date(2018, 3, 2), datetime.timedelta(seconds=39600), 'marvin1', datetime.datetime(2018, 3, 1, 16, 13, 45), 'Paid')\n",
      "(6, 'B1', datetime.date(2018, 3, 28), datetime.timedelta(seconds=57600), 'marvin1', datetime.datetime(2018, 3, 23, 22, 46, 36), 'Paid')\n",
      "(7, 'B1', datetime.date(2018, 4, 15), datetime.timedelta(seconds=50400), 'macejkovic73', datetime.datetime(2018, 4, 12, 22, 23, 20), 'Cancelled')\n",
      "(8, 'T2', datetime.date(2018, 4, 23), datetime.timedelta(seconds=46800), 'macejkovic73', datetime.datetime(2018, 4, 19, 10, 49), 'Cancelled')\n",
      "(9, 'T1', datetime.date(2018, 5, 25), datetime.timedelta(seconds=36000), 'marvin1', datetime.datetime(2018, 5, 21, 11, 20, 46), 'Unpaid')\n",
      "(10, 'B2', datetime.date(2018, 6, 12), datetime.timedelta(seconds=54000), 'bbahringer', datetime.datetime(2018, 5, 30, 14, 40, 23), 'Paid')\n",
      "MySQL connection is closed\n"
     ]
    }
   ],
   "source": [
    "print_table('bookings', host, db_name, user, psswd)"
   ]
  },
  {
   "cell_type": "markdown",
   "id": "79aa6a4c-d8cb-4cca-a312-d08c467aecc9",
   "metadata": {},
   "source": [
    "## Views"
   ]
  },
  {
   "cell_type": "code",
   "execution_count": 56,
   "id": "65016d6f-e252-48e9-a48f-9a5624986346",
   "metadata": {},
   "outputs": [
    {
     "name": "stdout",
     "output_type": "stream",
     "text": [
      "MySQL connection is closed\n"
     ]
    }
   ],
   "source": [
    "create_view=\"\"\"\n",
    "CREATE VIEW member_bookings AS\n",
    "SELECT bookings.id, room_id, room_type, booked_date, booked_time, member_id, datetime_of_booking, price, payment_status \n",
    "FROM\n",
    "bookings\n",
    "LEFT JOIN\n",
    "rooms\n",
    "ON\n",
    "bookings.room_id = rooms.id;\n",
    "\"\"\"\n",
    "execute_sql(create_view)"
   ]
  },
  {
   "cell_type": "code",
   "execution_count": 57,
   "id": "8f593ff2-e199-442e-b7b3-5bf2221a6413",
   "metadata": {},
   "outputs": [
    {
     "name": "stdout",
     "output_type": "stream",
     "text": [
      "(1, 'AR', 'Archery Range', datetime.date(2017, 12, 26), datetime.timedelta(seconds=46800), 'oreillys', datetime.datetime(2017, 12, 20, 20, 31, 27), 120.0, 'Paid')\n",
      "(2, 'MPF1', 'Multi Purpose Field', datetime.date(2017, 12, 30), datetime.timedelta(seconds=61200), 'noah51', datetime.datetime(2017, 12, 22, 5, 22, 10), 50.0, 'Paid')\n",
      "(3, 'T2', 'Tennis Court', datetime.date(2017, 12, 31), datetime.timedelta(seconds=57600), 'macejkovic73', datetime.datetime(2017, 12, 28, 18, 14, 23), 10.0, 'Paid')\n",
      "(4, 'T1', 'Tennis Court', datetime.date(2018, 3, 5), datetime.timedelta(seconds=28800), 'little31', datetime.datetime(2018, 2, 22, 20, 19, 17), 10.0, 'Unpaid')\n",
      "(5, 'MPF2', 'Multi Purpose Field', datetime.date(2018, 3, 2), datetime.timedelta(seconds=39600), 'marvin1', datetime.datetime(2018, 3, 1, 16, 13, 45), 60.0, 'Paid')\n",
      "(6, 'B1', 'Badminton Court', datetime.date(2018, 3, 28), datetime.timedelta(seconds=57600), 'marvin1', datetime.datetime(2018, 3, 23, 22, 46, 36), 8.0, 'Paid')\n",
      "(7, 'B1', 'Badminton Court', datetime.date(2018, 4, 15), datetime.timedelta(seconds=50400), 'macejkovic73', datetime.datetime(2018, 4, 12, 22, 23, 20), 8.0, 'Cancelled')\n",
      "(8, 'T2', 'Tennis Court', datetime.date(2018, 4, 23), datetime.timedelta(seconds=46800), 'macejkovic73', datetime.datetime(2018, 4, 19, 10, 49), 10.0, 'Cancelled')\n",
      "(9, 'T1', 'Tennis Court', datetime.date(2018, 5, 25), datetime.timedelta(seconds=36000), 'marvin1', datetime.datetime(2018, 5, 21, 11, 20, 46), 10.0, 'Unpaid')\n",
      "(10, 'B2', 'Badminton Court', datetime.date(2018, 6, 12), datetime.timedelta(seconds=54000), 'bbahringer', datetime.datetime(2018, 5, 30, 14, 40, 23), 8.0, 'Paid')\n",
      "MySQL connection is closed\n"
     ]
    }
   ],
   "source": [
    "print_table(\"SELECT * FROM member_bookings\")"
   ]
  },
  {
   "cell_type": "markdown",
   "id": "44593c36-1f21-4d83-9c6b-1fb7692cbcfd",
   "metadata": {},
   "source": [
    "## Stored Procedures"
   ]
  },
  {
   "cell_type": "markdown",
   "id": "93efe561-fb6f-4e3a-b692-80ecc230e0ce",
   "metadata": {},
   "source": [
    "Note that when creating stored procedures through Python, it is not necessary (nor possible) to change the delimiter. More info here: https://stackoverflow.com/questions/48001322/mysql-error-syntax-in-python"
   ]
  },
  {
   "cell_type": "code",
   "execution_count": 64,
   "id": "83ba2d47-dbb2-4e4c-ac5d-3a1021eb81a2",
   "metadata": {},
   "outputs": [
    {
     "name": "stdout",
     "output_type": "stream",
     "text": [
      "MySQL connection is closed\n"
     ]
    }
   ],
   "source": [
    "create_insert_new_member = \"\"\"\n",
    "CREATE PROCEDURE insert_new_member(IN p_id VARCHAR(255), IN p_password VARCHAR(255), IN p_email VARCHAR(255))\n",
    "BEGIN\n",
    "    INSERT INTO members (id, password, email) VALUES (p_id, p_password, p_email);\n",
    "END\n",
    "\"\"\"\n",
    "\n",
    "execute_sql(create_insert_new_member)"
   ]
  },
  {
   "cell_type": "code",
   "execution_count": 72,
   "id": "003862e4-3540-4a28-9817-37f3011218fd",
   "metadata": {},
   "outputs": [
    {
     "name": "stdout",
     "output_type": "stream",
     "text": [
      "MySQL connection is closed\n"
     ]
    }
   ],
   "source": [
    "execute_sql(\"\"\"CALL insert_new_member(\"testin01\", \"dlafjkgl\", \"ladfdskl@gmail.com\")\"\"\")"
   ]
  },
  {
   "cell_type": "code",
   "execution_count": 73,
   "id": "b5ed0ba7-57cf-4080-ae7b-df3658d15ef5",
   "metadata": {},
   "outputs": [
    {
     "name": "stdout",
     "output_type": "stream",
     "text": [
      "('afeil', 'feil1988<3', 'Abdul.Feil@hotmail.com', datetime.datetime(2017, 4, 15, 12, 10, 13), 0.0)\n",
      "('amely_18', 'loseweightin18', 'Amely.Bauch91@yahoo.com', datetime.datetime(2018, 2, 6, 16, 48, 43), 0.0)\n",
      "('bbahringer', 'iambeau17', 'Beaulah_Bahringer@yahoo.com', datetime.datetime(2017, 12, 28, 5, 36, 50), 0.0)\n",
      "('little31', 'whocares31', 'Anthony_Little31@gmail.com', datetime.datetime(2017, 6, 1, 21, 12, 11), 10.0)\n",
      "('macejkovic73', 'jadajeda12', 'Jada.Macejkovic73@gmail.com', datetime.datetime(2017, 5, 30, 17, 30, 22), 0.0)\n",
      "('marvin1', 'if0909mar', 'Marvin_Schulist@gmail.com', datetime.datetime(2017, 9, 9, 2, 30, 49), 10.0)\n",
      "('nitzsche77', 'bret77@#', 'Bret_Nitzsche77@gmail.com', datetime.datetime(2018, 1, 9, 17, 36, 49), 0.0)\n",
      "('noah51', '18Oct1976#51', 'Noah51@gmail.com', datetime.datetime(2017, 12, 16, 22, 59, 46), 0.0)\n",
      "('oreillys', 'reallycool#1', 'Martine_OReilly@yahoo.com', datetime.datetime(2017, 10, 12, 5, 39, 20), 0.0)\n",
      "('testin01', 'dlafjkgl', 'ladfdskl@gmail.com', datetime.datetime(2022, 3, 13, 19, 16, 4), 0.0)\n",
      "('wyattgreat', 'wyatt111', 'Wyatt_Wisozk2@gmail.com', datetime.datetime(2017, 7, 18, 16, 28, 35), 0.0)\n",
      "MySQL connection is closed\n"
     ]
    }
   ],
   "source": [
    "print_table(\"SELECT * from members\")"
   ]
  },
  {
   "cell_type": "code",
   "execution_count": 74,
   "id": "2f80a6d0-1ea7-42c6-8273-de2973d0e9cd",
   "metadata": {},
   "outputs": [
    {
     "name": "stdout",
     "output_type": "stream",
     "text": [
      "MySQL connection is closed\n"
     ]
    }
   ],
   "source": [
    "create_delete_member = \"\"\"\n",
    "CREATE PROCEDURE delete_member(IN p_id VARCHAR(255))\n",
    "BEGIN\n",
    "    DELETE FROM members\n",
    "    WHERE id = p_id;\n",
    "END\n",
    "\"\"\"\n",
    "\n",
    "execute_sql(create_delete_member)"
   ]
  },
  {
   "cell_type": "code",
   "execution_count": 75,
   "id": "1618267e-3687-4c42-b87d-c38820e64a30",
   "metadata": {},
   "outputs": [
    {
     "name": "stdout",
     "output_type": "stream",
     "text": [
      "MySQL connection is closed\n"
     ]
    }
   ],
   "source": [
    "execute_sql(\"\"\"CALL delete_member(\"testin01\")\"\"\")"
   ]
  },
  {
   "cell_type": "code",
   "execution_count": 76,
   "id": "c69c46df-1f64-4702-9118-9eeb86b000d8",
   "metadata": {},
   "outputs": [
    {
     "name": "stdout",
     "output_type": "stream",
     "text": [
      "('afeil', 'feil1988<3', 'Abdul.Feil@hotmail.com', datetime.datetime(2017, 4, 15, 12, 10, 13), 0.0)\n",
      "('amely_18', 'loseweightin18', 'Amely.Bauch91@yahoo.com', datetime.datetime(2018, 2, 6, 16, 48, 43), 0.0)\n",
      "('bbahringer', 'iambeau17', 'Beaulah_Bahringer@yahoo.com', datetime.datetime(2017, 12, 28, 5, 36, 50), 0.0)\n",
      "('little31', 'whocares31', 'Anthony_Little31@gmail.com', datetime.datetime(2017, 6, 1, 21, 12, 11), 10.0)\n",
      "('macejkovic73', 'jadajeda12', 'Jada.Macejkovic73@gmail.com', datetime.datetime(2017, 5, 30, 17, 30, 22), 0.0)\n",
      "('marvin1', 'if0909mar', 'Marvin_Schulist@gmail.com', datetime.datetime(2017, 9, 9, 2, 30, 49), 10.0)\n",
      "('nitzsche77', 'bret77@#', 'Bret_Nitzsche77@gmail.com', datetime.datetime(2018, 1, 9, 17, 36, 49), 0.0)\n",
      "('noah51', '18Oct1976#51', 'Noah51@gmail.com', datetime.datetime(2017, 12, 16, 22, 59, 46), 0.0)\n",
      "('oreillys', 'reallycool#1', 'Martine_OReilly@yahoo.com', datetime.datetime(2017, 10, 12, 5, 39, 20), 0.0)\n",
      "('wyattgreat', 'wyatt111', 'Wyatt_Wisozk2@gmail.com', datetime.datetime(2017, 7, 18, 16, 28, 35), 0.0)\n",
      "MySQL connection is closed\n"
     ]
    }
   ],
   "source": [
    "print_table(\"SELECT * FROM members\")"
   ]
  },
  {
   "cell_type": "code",
   "execution_count": 78,
   "id": "53a2ee4e-d22e-4644-9bc8-92fa5fe7d223",
   "metadata": {},
   "outputs": [
    {
     "name": "stdout",
     "output_type": "stream",
     "text": [
      "MySQL connection is closed\n"
     ]
    }
   ],
   "source": [
    "create_update_member_password = \"\"\"\n",
    "CREATE PROCEDURE update_member_password(IN p_id VARCHAR(255), IN p_password VARCHAR(255))\n",
    "BEGIN\n",
    "    UPDATE members\n",
    "    SET password = p_password\n",
    "    WHERE id = p_id;\n",
    "END\n",
    "\"\"\"\n",
    "\n",
    "execute_sql(create_update_member_password)"
   ]
  },
  {
   "cell_type": "code",
   "execution_count": 16,
   "id": "575ea0f0-cf8f-46f7-ad9f-a601768214e3",
   "metadata": {},
   "outputs": [
    {
     "name": "stdout",
     "output_type": "stream",
     "text": [
      "MySQL connection is closed\n"
     ]
    }
   ],
   "source": [
    "execute_sql(\"\"\"CALL update_member_password(\"afeil\", \"new_password\")\"\"\")"
   ]
  },
  {
   "cell_type": "code",
   "execution_count": 10,
   "id": "87623132-b2af-4dbe-afa7-e014f4046cf4",
   "metadata": {},
   "outputs": [
    {
     "name": "stdout",
     "output_type": "stream",
     "text": [
      "('afeil', 'new_password', 'Abdul.Feil@hotmail.com', datetime.datetime(2017, 4, 15, 12, 10, 13), 0.0)\n",
      "('amely_18', 'loseweightin18', 'Amely.Bauch91@yahoo.com', datetime.datetime(2018, 2, 6, 16, 48, 43), 0.0)\n",
      "('bbahringer', 'iambeau17', 'Beaulah_Bahringer@yahoo.com', datetime.datetime(2017, 12, 28, 5, 36, 50), 0.0)\n",
      "('little31', 'whocares31', 'Anthony_Little31@gmail.com', datetime.datetime(2017, 6, 1, 21, 12, 11), 10.0)\n",
      "('macejkovic73', 'jadajeda12', 'Jada.Macejkovic73@gmail.com', datetime.datetime(2017, 5, 30, 17, 30, 22), 0.0)\n",
      "('marvin1', 'if0909mar', 'Marvin_Schulist@gmail.com', datetime.datetime(2017, 9, 9, 2, 30, 49), 10.0)\n",
      "('nitzsche77', 'bret77@#', 'Bret_Nitzsche77@gmail.com', datetime.datetime(2018, 1, 9, 17, 36, 49), 0.0)\n",
      "('noah51', '18Oct1976#51', 'Noah51@gmail.com', datetime.datetime(2017, 12, 16, 22, 59, 46), 0.0)\n",
      "('oreillys', 'reallycool#1', 'Martine_OReilly@yahoo.com', datetime.datetime(2017, 10, 12, 5, 39, 20), 0.0)\n",
      "('wyattgreat', 'wyatt111', 'Wyatt_Wisozk2@gmail.com', datetime.datetime(2017, 7, 18, 16, 28, 35), 0.0)\n",
      "MySQL connection is closed\n"
     ]
    }
   ],
   "source": [
    "print_table(\"SELECT * FROM members\")"
   ]
  },
  {
   "cell_type": "code",
   "execution_count": 11,
   "id": "8fbdfff6-c452-41bc-8037-914c685060fb",
   "metadata": {},
   "outputs": [
    {
     "name": "stdout",
     "output_type": "stream",
     "text": [
      "MySQL connection is closed\n"
     ]
    }
   ],
   "source": [
    "create_update_member_email = \"\"\"\n",
    "CREATE PROCEDURE update_member_email(IN p_id VARCHAR(255), IN p_email VARCHAR(255))\n",
    "BEGIN\n",
    "    UPDATE members\n",
    "    SET email = p_email\n",
    "    WHERE id = p_id;\n",
    "END\n",
    "\"\"\"\n",
    "\n",
    "execute_sql(create_update_member_email)"
   ]
  },
  {
   "cell_type": "code",
   "execution_count": 14,
   "id": "28944929-1c7f-4d55-bede-01120035d977",
   "metadata": {},
   "outputs": [
    {
     "name": "stdout",
     "output_type": "stream",
     "text": [
      "MySQL connection is closed\n"
     ]
    }
   ],
   "source": [
    "execute_sql(\"\"\"CALL update_member_email(\"afeil\", \"new_email@gmail.com\")\"\"\")"
   ]
  },
  {
   "cell_type": "code",
   "execution_count": 17,
   "id": "0f0abed8-6034-455b-a73b-f964acba540b",
   "metadata": {},
   "outputs": [
    {
     "name": "stdout",
     "output_type": "stream",
     "text": [
      "('afeil', 'new_password', 'new_email@gmail.com', datetime.datetime(2017, 4, 15, 12, 10, 13), 0.0)\n",
      "('amely_18', 'loseweightin18', 'Amely.Bauch91@yahoo.com', datetime.datetime(2018, 2, 6, 16, 48, 43), 0.0)\n",
      "('bbahringer', 'iambeau17', 'Beaulah_Bahringer@yahoo.com', datetime.datetime(2017, 12, 28, 5, 36, 50), 0.0)\n",
      "('little31', 'whocares31', 'Anthony_Little31@gmail.com', datetime.datetime(2017, 6, 1, 21, 12, 11), 10.0)\n",
      "('macejkovic73', 'jadajeda12', 'Jada.Macejkovic73@gmail.com', datetime.datetime(2017, 5, 30, 17, 30, 22), 0.0)\n",
      "('marvin1', 'if0909mar', 'Marvin_Schulist@gmail.com', datetime.datetime(2017, 9, 9, 2, 30, 49), 10.0)\n",
      "('nitzsche77', 'bret77@#', 'Bret_Nitzsche77@gmail.com', datetime.datetime(2018, 1, 9, 17, 36, 49), 0.0)\n",
      "('noah51', '18Oct1976#51', 'Noah51@gmail.com', datetime.datetime(2017, 12, 16, 22, 59, 46), 0.0)\n",
      "('oreillys', 'reallycool#1', 'Martine_OReilly@yahoo.com', datetime.datetime(2017, 10, 12, 5, 39, 20), 0.0)\n",
      "('wyattgreat', 'wyatt111', 'Wyatt_Wisozk2@gmail.com', datetime.datetime(2017, 7, 18, 16, 28, 35), 0.0)\n",
      "MySQL connection is closed\n"
     ]
    }
   ],
   "source": [
    "print_table(\"SELECT * FROM members\")"
   ]
  },
  {
   "cell_type": "code",
   "execution_count": 20,
   "id": "60fd291b-3e7e-4c38-a144-7f76e8ee3c36",
   "metadata": {},
   "outputs": [
    {
     "name": "stdout",
     "output_type": "stream",
     "text": [
      "MySQL connection is closed\n"
     ]
    }
   ],
   "source": [
    "create_make_booking = \"\"\"\n",
    "CREATE PROCEDURE make_booking(IN p_room_id VARCHAR(255), IN p_booked_date DATE, IN p_booked_time TIME, IN p_member_id VARCHAR(255))\n",
    "BEGIN\n",
    "    DECLARE v_price FLOAT(5,2);\n",
    "    DECLARE v_payment_due FLOAT(4,2);\n",
    "    SELECT price INTO v_price FROM rooms WHERE id = p_room_id;\n",
    "    INSERT INTO bookings (room_id, booked_date, booked_time, member_id) VALUES (p_room_id,p_booked_date, p_booked_time, p_member_id);\n",
    "    SELECT payment_due INTO v_payment_due FROM members WHERE id = p_member_id;\n",
    "    UPDATE members SET payment_due = (v_payment_due + v_price) WHERE id = p_member_id;\n",
    "END\n",
    "\"\"\"\n",
    "\n",
    "execute_sql(create_make_booking)"
   ]
  },
  {
   "cell_type": "code",
   "execution_count": 22,
   "id": "ef10a406-e454-4f23-8bf0-9d5d735895fa",
   "metadata": {},
   "outputs": [
    {
     "name": "stdout",
     "output_type": "stream",
     "text": [
      "MySQL connection is closed\n"
     ]
    }
   ],
   "source": [
    "create_update_payment = \"\"\"\n",
    "CREATE PROCEDURE update_payment(IN p_id INT)\n",
    "BEGIN\n",
    "    DECLARE v_member_id VARCHAR(255);\n",
    "    DECLARE v_payment_due FLOAT(4,2);\n",
    "    DECLARE v_price FLOAT(5,2);\n",
    "    UPDATE bookings SET payment_status = 'Paid' WHERE id = p_id;\n",
    "    SELECT member_id INTO v_member_id FROM member_bookings WHERE id = p_id;\n",
    "    SELECT price INTO v_price FROM member_bookings WHERE id = p_id;\n",
    "    SELECT payment_due INTO v_payment_due FROM members WHERE id = v_member_id;\n",
    "    UPDATE members SET payment_due = (v_payment_due - v_price) WHERE id = v_member_id;\n",
    "END\n",
    "\"\"\"\n",
    "\n",
    "execute_sql(create_update_payment)"
   ]
  },
  {
   "cell_type": "code",
   "execution_count": 28,
   "id": "098bc286-e321-4d76-a3f4-c475e4572340",
   "metadata": {},
   "outputs": [
    {
     "name": "stdout",
     "output_type": "stream",
     "text": [
      "MySQL connection is closed\n"
     ]
    }
   ],
   "source": [
    "create_view_bookings = \"\"\"\n",
    "CREATE PROCEDURE view_bookings(IN p_id VARCHAR(255))\n",
    "BEGIN\n",
    "    SELECT * FROM member_bookings WHERE member_id = p_id;\n",
    "END\n",
    "\"\"\"\n",
    "\n",
    "execute_sql(create_view_bookings)"
   ]
  },
  {
   "cell_type": "code",
   "execution_count": 7,
   "id": "09bf48a6-654d-46eb-8fca-ca5de3e71fa8",
   "metadata": {},
   "outputs": [
    {
     "name": "stdout",
     "output_type": "stream",
     "text": [
      "(5, 'MPF2', 'Multi Purpose Field', datetime.date(2018, 3, 2), datetime.timedelta(seconds=39600), 'marvin1', datetime.datetime(2018, 3, 1, 16, 13, 45), 60.0, 'Paid')\n",
      "(6, 'B1', 'Badminton Court', datetime.date(2018, 3, 28), datetime.timedelta(seconds=57600), 'marvin1', datetime.datetime(2018, 3, 23, 22, 46, 36), 8.0, 'Paid')\n",
      "(9, 'T1', 'Tennis Court', datetime.date(2018, 5, 25), datetime.timedelta(seconds=36000), 'marvin1', datetime.datetime(2018, 5, 21, 11, 20, 46), 10.0, 'Unpaid')\n"
     ]
    }
   ],
   "source": [
    "print_table(\"\"\" CALL view_bookings(\"marvin1\")\"\"\")"
   ]
  },
  {
   "cell_type": "code",
   "execution_count": 36,
   "id": "9a83f5c7-56cb-4453-807d-00e93c25398b",
   "metadata": {},
   "outputs": [
    {
     "name": "stdout",
     "output_type": "stream",
     "text": [
      "MySQL connection is closed\n"
     ]
    }
   ],
   "source": [
    "create_search_room = \"\"\"\n",
    "CREATE PROCEDURE search_room(IN p_room_type VARCHAR(255), IN p_booked_date DATE, IN p_booked_time TIME)\n",
    "BEGIN\n",
    "   SELECT * FROM rooms WHERE id NOT IN \n",
    "        (SELECT room_id FROM member_bookings\n",
    "        WHERE booked_date = p_booked_date  AND \n",
    "        booked_time = p_booked_time AND \n",
    "        payment_status != 'Cancelled')\n",
    "        AND room_type = p_room_type;\n",
    "END\n",
    "\n",
    "\"\"\"\n",
    "execute_sql(create_search_room)"
   ]
  },
  {
   "cell_type": "code",
   "execution_count": 37,
   "id": "962a60aa-b796-4199-b77e-59d420fb7d99",
   "metadata": {},
   "outputs": [
    {
     "name": "stdout",
     "output_type": "stream",
     "text": [
      "('T1', 'Tennis Court', 10.0)\n",
      "('T2', 'Tennis Court', 10.0)\n"
     ]
    }
   ],
   "source": [
    "print_table(\"\"\" CALL search_room(\"Tennis Court\", \"2017-12-26\", \"13:00:00\") \"\"\")"
   ]
  },
  {
   "cell_type": "code",
   "execution_count": 8,
   "id": "1a7c3a69-ba62-4294-9aa5-fe6471fcfaaa",
   "metadata": {},
   "outputs": [
    {
     "name": "stdout",
     "output_type": "stream",
     "text": [
      "MySQL connection is closed\n"
     ]
    }
   ],
   "source": [
    "create_cancel_booking = \"\"\"\n",
    "CREATE PROCEDURE cancel_booking(IN p_booking_id INT, OUT p_message VARCHAR(255))\n",
    "BEGIN \n",
    "    DECLARE v_cancellation INT;\n",
    "    DECLARE v_member_id VARCHAR(255);\n",
    "    DECLARE v_payment_status VARCHAR(255);\n",
    "    DECLARE v_booked_date DATE;\n",
    "    DECLARE v_price FLOAT(5,2);\n",
    "    DECLARE v_payment_due FLOAT(4,2);\n",
    "    SET v_cancellation = 0;\n",
    "    SELECT member_id, booked_date, price, payment_status INTO v_member_id, v_booked_date, v_price, v_payment_status FROM\n",
    "    member_bookings \n",
    "    WHERE\n",
    "    id =p_booking_id;\n",
    "    SELECT payment_due INTO v_payment_due FROM members WHERE id = v_member_id;\n",
    "    IF curdate() >= v_booked_date THEN\n",
    "        SELECT 'Cancellation cannot be done on/after the booked date' INTO p_message;\n",
    "    ELSEIF v_payment_status = 'Cancelled' OR v_payment_status = 'Paid' THEN\n",
    "        SELECT 'Booking has already been cacelled or paid' INTO p_message;\n",
    "    ELSE\n",
    "        UPDATE bookings SET payment_status = 'Cancelled' WHERE id = p_booking_id;\n",
    "        SET v_payment_due = v_payment_due - v_price;\n",
    "        SET v_cancellation = check_cancellation(p_booking_id);\n",
    "        IF v_cancellation >=2 THEN\n",
    "            SET v_payment_due = v_payment_due + 10;\n",
    "        END IF;\n",
    "        UPDATE members SET payment_due = v_payment_due WHERE id = v_member_id;\n",
    "        SELECT 'Booking Cancelled' INTO p_message;\n",
    "    END IF;\n",
    "END\n",
    "\"\"\"\n",
    "execute_sql(create_cancel_booking)"
   ]
  },
  {
   "cell_type": "markdown",
   "id": "ce691a95-7cbb-4eca-b194-22c352b9aa92",
   "metadata": {},
   "source": [
    "## Triggers"
   ]
  },
  {
   "cell_type": "code",
   "execution_count": 67,
   "id": "b0ece7cc-655a-4358-b44b-166182f9d561",
   "metadata": {},
   "outputs": [
    {
     "name": "stdout",
     "output_type": "stream",
     "text": [
      "MySQL connection is closed\n"
     ]
    }
   ],
   "source": [
    "create_trigger_payment_check = \"\"\"\n",
    "CREATE TRIGGER payment_check BEFORE DELETE ON members FOR EACH ROW\n",
    "BEGIN\n",
    "    DECLARE v_payment_due FLOAT(4,2);\n",
    "    SELECT payment_due INTO v_payment_due FROM members WHERE id = OLD.id;\n",
    "    IF v_payment_due > 0 THEN\n",
    "        INSERT INTO pending_terminations (id, email, payment_due) VALUES (OLD.id, OLD.email, OLD.payment_due);\n",
    "    END IF;\n",
    "END\n",
    "\"\"\"\n",
    "execute_sql(create_trigger_payment_check)"
   ]
  },
  {
   "cell_type": "markdown",
   "id": "2d309dcd-d4d1-401e-8221-149dd4212397",
   "metadata": {},
   "source": [
    "## Stored Function"
   ]
  },
  {
   "cell_type": "code",
   "execution_count": null,
   "id": "9a6d071f-8aee-4bbd-b89c-f321f5a893d6",
   "metadata": {},
   "outputs": [],
   "source": []
  },
  {
   "cell_type": "code",
   "execution_count": 6,
   "id": "8d9298d3-d012-4a34-8285-a2b7ac3946e1",
   "metadata": {},
   "outputs": [
    {
     "name": "stdout",
     "output_type": "stream",
     "text": [
      "MySQL connection is closed\n"
     ]
    }
   ],
   "source": [
    "create_function_check_cancellation = \"\"\"\n",
    "CREATE FUNCTION check_cancellation(p_booking_id INT) RETURNS INT \n",
    "DETERMINISTIC\n",
    "BEGIN\n",
    "    DECLARE v_done INT;\n",
    "    DECLARE v_cancellation INT;\n",
    "    DECLARE v_current_payment_status VARCHAR(255);\n",
    "        \n",
    "    \n",
    "    DECLARE cur CURSOR FOR\n",
    "        SELECT payment_status FROM bookings WHERE member_id =\n",
    "        (SELECT member_id FROM bookings WHERE id = p_booking_id) ORDER BY\n",
    "        datetime_of_booking DESC;\n",
    "    \n",
    "    DECLARE CONTINUE HANDLER FOR NOT FOUND SET v_done = 1;\n",
    "    \n",
    "    SET v_done = 0;\n",
    "    SET v_cancellation = 0;\n",
    "    \n",
    "    OPEN cur;\n",
    "    \n",
    "    cancellation_loop: LOOP\n",
    "        FETCH cur INTO v_current_payment_status;\n",
    "        IF v_current_payment_status != \"Cancelled\" OR v_done = 1 THEN LEAVE cancellation_loop;\n",
    "        ELSEIF v_done =1 THEN LEAVE cancellation_loop;\n",
    "        ELSE SET v_cancellation = v_cancellation +1;\n",
    "        END IF;\n",
    "    END LOOP;\n",
    "    CLOSE cur;\n",
    "    \n",
    "    RETURN v_cancellation;\n",
    "END\n",
    "\n",
    "\"\"\"\n",
    "\n",
    "execute_sql(create_function_check_cancellation)"
   ]
  }
 ],
 "metadata": {
  "kernelspec": {
   "display_name": "Python 3 (ipykernel)",
   "language": "python",
   "name": "python3"
  },
  "language_info": {
   "codemirror_mode": {
    "name": "ipython",
    "version": 3
   },
   "file_extension": ".py",
   "mimetype": "text/x-python",
   "name": "python",
   "nbconvert_exporter": "python",
   "pygments_lexer": "ipython3",
   "version": "3.10.2"
  }
 },
 "nbformat": 4,
 "nbformat_minor": 5
}
